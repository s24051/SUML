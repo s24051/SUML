{
  "nbformat": 4,
  "nbformat_minor": 0,
  "metadata": {
    "colab": {
      "provenance": []
    },
    "kernelspec": {
      "name": "python3",
      "display_name": "Python 3"
    },
    "language_info": {
      "name": "python"
    }
  },
  "cells": [
    {
      "cell_type": "code",
      "execution_count": 14,
      "metadata": {
        "id": "iXuQ1iRx4A9d"
      },
      "outputs": [],
      "source": [
        "import pandas as pd\n",
        "from sklearn.preprocessing import LabelEncoder\n",
        "from sklearn.model_selection import train_test_split\n",
        "from sklearn.ensemble import RandomForestClassifier\n",
        "import pickle\n",
        "import numpy as np\n"
      ]
    },
    {
      "cell_type": "code",
      "source": [
        "base_data = pd.read_csv(\"DSP_8.csv\")\n",
        "base_data.columns\n",
        "\n",
        "cols = [\"HeartDisease\", \"Age\",\"Sex\",\"ChestPainType\",\"RestingBP\",\"Cholesterol\",\"FastingBS\",\"RestingECG\",\"MaxHR\",\"ExerciseAngina\",\"Oldpeak\",\"ST_Slope\"]\n",
        "data = base_data[cols].copy()\n",
        "\n",
        "# Brakujący cholesterol i puls jest wpisany jako '0'?\n",
        "base_data['Cholesterol'].replace(0, np.nan, inplace=True)\n",
        "base_data['RestingBP'].replace(0, np.nan, inplace=True)\n",
        "nan_dataframe = base_data[base_data.isna().any(axis=1)]\n",
        "\n",
        "# Zamiana nulli na mediany\n",
        "base_data.fillna(base_data.median(numeric_only=True), inplace=True)\n",
        "\n",
        "# zamiana stringow na 01\n",
        "encoder = LabelEncoder()\n",
        "data.loc[:,\"Sex\"] = encoder.fit_transform(data.loc[:,\"Sex\"])\n",
        "print(\"Sex Mappings:\")\n",
        "for index, label in enumerate(encoder.classes_):\n",
        "    print(f\"{label} -> {index}\")\n",
        "\n",
        "data.loc[:,\"ChestPainType\"] = encoder.fit_transform(data.loc[:,\"ChestPainType\"])\n",
        "print(\"ChestPainType Mappings:\")\n",
        "for index, label in enumerate(encoder.classes_):\n",
        "    print(f\"{label} -> {index}\")\n",
        "\n",
        "data.loc[:,\"ST_Slope\"] = encoder.fit_transform(data.loc[:,\"ST_Slope\"])\n",
        "print(\"ST_Slope Mappings:\")\n",
        "for index, label in enumerate(encoder.classes_):\n",
        "    print(f\"{label} -> {index}\")\n",
        "\n",
        "data.loc[:,\"ExerciseAngina\"] = encoder.fit_transform(data.loc[:,\"ExerciseAngina\"])\n",
        "print(\"ExerciseAngina Mappings:\")\n",
        "for index, label in enumerate(encoder.classes_):\n",
        "    print(f\"{label} -> {index}\")\n",
        "\n",
        "data.loc[:,\"RestingECG\"] = encoder.fit_transform(data.loc[:,\"RestingECG\"])\n",
        "print(\"RestingECG Mappings:\")\n",
        "for index, label in enumerate(encoder.classes_):\n",
        "    print(f\"{label} -> {index}\")\n",
        "\n",
        "y = data.iloc[:,0]\n",
        "x = data.iloc[:,1:12]\n",
        "X_train, X_test, y_train, y_test = train_test_split(x, y, test_size = 0.2, random_state = 0)\n",
        "\n",
        "def model(X_train, y_train):\n",
        "\n",
        "    forest = RandomForestClassifier (n_estimators=20, random_state=0)\n",
        "    forest.fit(X_train,y_train)\n",
        "    print(\"Random Forest: {0}\".format(forest.score(X_train,y_train)))\n",
        "\n",
        "    return forest\n",
        "\n",
        "forest = model(X_train,y_train)"
      ],
      "metadata": {
        "colab": {
          "base_uri": "https://localhost:8080/"
        },
        "id": "At383fQQ4IAw",
        "outputId": "4ab02bd9-e2f1-4b0b-ff17-8897c42efb99"
      },
      "execution_count": 20,
      "outputs": [
        {
          "output_type": "stream",
          "name": "stdout",
          "text": [
            "Sex Mappings:\n",
            "F -> 0\n",
            "M -> 1\n",
            "ChestPainType Mappings:\n",
            "ASY -> 0\n",
            "ATA -> 1\n",
            "NAP -> 2\n",
            "TA -> 3\n",
            "ST_Slope Mappings:\n",
            "Down -> 0\n",
            "Flat -> 1\n",
            "Up -> 2\n",
            "ExerciseAngina Mappings:\n",
            "N -> 0\n",
            "Y -> 1\n",
            "RestingECG Mappings:\n",
            "LVH -> 0\n",
            "Normal -> 1\n",
            "ST -> 2\n",
            "Random Forest: 1.0\n"
          ]
        },
        {
          "output_type": "stream",
          "name": "stderr",
          "text": [
            "<ipython-input-20-99eb94842664>:8: FutureWarning: A value is trying to be set on a copy of a DataFrame or Series through chained assignment using an inplace method.\n",
            "The behavior will change in pandas 3.0. This inplace method will never work because the intermediate object on which we are setting values always behaves as a copy.\n",
            "\n",
            "For example, when doing 'df[col].method(value, inplace=True)', try using 'df.method({col: value}, inplace=True)' or df[col] = df[col].method(value) instead, to perform the operation inplace on the original object.\n",
            "\n",
            "\n",
            "  base_data['Cholesterol'].replace(0, np.nan, inplace=True)\n",
            "<ipython-input-20-99eb94842664>:9: FutureWarning: A value is trying to be set on a copy of a DataFrame or Series through chained assignment using an inplace method.\n",
            "The behavior will change in pandas 3.0. This inplace method will never work because the intermediate object on which we are setting values always behaves as a copy.\n",
            "\n",
            "For example, when doing 'df[col].method(value, inplace=True)', try using 'df.method({col: value}, inplace=True)' or df[col] = df[col].method(value) instead, to perform the operation inplace on the original object.\n",
            "\n",
            "\n",
            "  base_data['RestingBP'].replace(0, np.nan, inplace=True)\n"
          ]
        }
      ]
    },
    {
      "cell_type": "code",
      "source": [
        "my_data =[\n",
        "            [\n",
        "              54,\n",
        "              0,\n",
        "              0,\n",
        "              130,\n",
        "              223,\n",
        "              1,\n",
        "              1,\n",
        "              138,\n",
        "              1,\n",
        "              1,\n",
        "              1\n",
        "    ]\n",
        "]\n",
        "print(\"Dataset: \")\n",
        "print(my_data)\n",
        "print(\"Will have a heart disease: \" + (\"Yes\" if forest.predict(my_data)[0] == 1 else \"No\"))\n"
      ],
      "metadata": {
        "colab": {
          "base_uri": "https://localhost:8080/"
        },
        "id": "8XnS1dmA4K1X",
        "outputId": "a2cca349-e8f5-400b-e3c3-5aa479b14d60"
      },
      "execution_count": 35,
      "outputs": [
        {
          "output_type": "stream",
          "name": "stdout",
          "text": [
            "Dataset: \n",
            "[[54, 0, 0, 130, 223, 1, 1, 138, 1, 1, 1]]\n",
            "Will have a heart disease: Yes\n"
          ]
        },
        {
          "output_type": "stream",
          "name": "stderr",
          "text": [
            "/usr/local/lib/python3.10/dist-packages/sklearn/base.py:493: UserWarning: X does not have valid feature names, but RandomForestClassifier was fitted with feature names\n",
            "  warnings.warn(\n"
          ]
        }
      ]
    },
    {
      "cell_type": "code",
      "source": [
        "filename = \"model.sv\"\n",
        "pickle.dump(forest, open(filename,'wb'))"
      ],
      "metadata": {
        "id": "0m7Lu2qi4MaE"
      },
      "execution_count": 22,
      "outputs": []
    }
  ]
}